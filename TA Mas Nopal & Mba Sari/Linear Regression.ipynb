{
  "nbformat": 4,
  "nbformat_minor": 0,
  "metadata": {
    "colab": {
      "provenance": []
    },
    "kernelspec": {
      "name": "python3",
      "display_name": "Python 3"
    },
    "language_info": {
      "name": "python"
    }
  },
  "cells": [
    {
      "cell_type": "markdown",
      "source": [
        "# NutrisiA"
      ],
      "metadata": {
        "id": "d_3MA8Kg5JUt"
      }
    },
    {
      "cell_type": "code",
      "execution_count": null,
      "metadata": {
        "id": "-rYhZ4rX4dCN"
      },
      "outputs": [],
      "source": [
        "import pandas as pd\n",
        "\n",
        "df = pd.read_excel(\"Sampel Controlling-edit.xlsx\",sheet_name=\"Nutrisi A\")\n",
        "df"
      ]
    },
    {
      "cell_type": "code",
      "source": [
        "dfdrop = df.drop(['TDS Awal (ppm)', 'TDS Akhir (ppm)'], axis=1)\n",
        "dfdrop"
      ],
      "metadata": {
        "id": "duPm5ay05gK_"
      },
      "execution_count": null,
      "outputs": []
    },
    {
      "cell_type": "code",
      "source": [
        "dfgroup = dfdrop.groupby([\"Volume Tandon (L)\",\"Waktu (s)\"]).aggregate(\"mean\")\n",
        "dfgroup"
      ],
      "metadata": {
        "id": "ZHxOE98Y5w0z"
      },
      "execution_count": null,
      "outputs": []
    },
    {
      "cell_type": "code",
      "source": [
        "dfresetindex = dfgroup.reset_index()\n",
        "dfresetindex"
      ],
      "metadata": {
        "id": "ReP5Ua8g6JdT"
      },
      "execution_count": null,
      "outputs": []
    },
    {
      "cell_type": "code",
      "source": [
        "import seaborn as sb\n",
        "\n",
        "sb.heatmap(dfresetindex.corr(), cmap=\"YlGnBu\", annot=True)"
      ],
      "metadata": {
        "id": "dAADFRHDJIVe"
      },
      "execution_count": null,
      "outputs": []
    },
    {
      "cell_type": "code",
      "source": [
        "from matplotlib import pyplot\n",
        "\n",
        "pyplot.scatter(dfresetindex.iloc[:,1],dfresetindex.iloc[:,2])"
      ],
      "metadata": {
        "id": "158hRBILInv5"
      },
      "execution_count": null,
      "outputs": []
    },
    {
      "cell_type": "markdown",
      "source": [
        "## Train Test Split"
      ],
      "metadata": {
        "id": "iAiX29qa3j5Q"
      }
    },
    {
      "cell_type": "code",
      "source": [
        "from sklearn.model_selection import train_test_split\n",
        "\n",
        "X_train, X_test, y_train, y_test = train_test_split(dfresetindex[[\"Volume Tandon (L)\",\"Waktu (s)\"]],dfresetindex[\"Delta TDS (ppm)\"],test_size=0.2,random_state=123)"
      ],
      "metadata": {
        "id": "PIGKO0rK6T2W"
      },
      "execution_count": null,
      "outputs": []
    },
    {
      "cell_type": "markdown",
      "source": [
        "## Feature Scaling"
      ],
      "metadata": {
        "id": "3JCRZZaD-CDJ"
      }
    },
    {
      "cell_type": "code",
      "source": [
        "from sklearn.preprocessing import StandardScaler\n",
        "\n",
        "mms = StandardScaler()\n",
        "mms.fit(X_train)\n",
        "\n",
        "X_train = mms.transform(X_train)\n",
        "X_test = mms.transform(X_test)\n",
        "\n",
        "print(\"Mean\",mms.mean_)\n",
        "print(\"Std\",mms.scale_)"
      ],
      "metadata": {
        "id": "UCJOHbuy-EY5"
      },
      "execution_count": null,
      "outputs": []
    },
    {
      "cell_type": "code",
      "source": [
        "X_train"
      ],
      "metadata": {
        "id": "9vhUGWi0_fwl"
      },
      "execution_count": null,
      "outputs": []
    },
    {
      "cell_type": "code",
      "source": [
        "X_test"
      ],
      "metadata": {
        "id": "yZjQt3M-rHld"
      },
      "execution_count": null,
      "outputs": []
    },
    {
      "cell_type": "markdown",
      "source": [
        "## Multiple Linear Regression"
      ],
      "metadata": {
        "id": "bq-TXc0e8INv"
      }
    },
    {
      "cell_type": "code",
      "source": [
        "from sklearn.linear_model import LinearRegression\n",
        "from sklearn.metrics import mean_squared_error\n",
        "import numpy as np\n",
        "\n",
        "lr = LinearRegression()\n",
        "\n",
        "lr.fit(X_train,y_train)\n",
        "\n",
        "print(lr.score(X_train,y_train))\n",
        "print(lr.coef_)\n",
        "print(lr.intercept_)\n",
        "\n",
        "y_pred_train = lr.predict(X_train)\n",
        "print(np.sqrt(mean_squared_error(y_train,y_pred_train)))"
      ],
      "metadata": {
        "id": "9nIkrHsi7Gp0"
      },
      "execution_count": null,
      "outputs": []
    },
    {
      "cell_type": "code",
      "source": [
        "lr.score(X_test,y_test)"
      ],
      "metadata": {
        "id": "P8AkpS8f747Q"
      },
      "execution_count": null,
      "outputs": []
    },
    {
      "cell_type": "code",
      "source": [
        "from sklearn.metrics import mean_squared_error\n",
        "import numpy as np\n",
        "\n",
        "y_pred = lr.predict(X_test)\n",
        "\n",
        "print(np.sqrt(mean_squared_error(y_test,y_pred)))"
      ],
      "metadata": {
        "id": "Df8R53rU8UCx"
      },
      "execution_count": null,
      "outputs": []
    },
    {
      "cell_type": "markdown",
      "source": [
        "### Sample\n",
        "\n",
        "y = ax1 + bx2 + c"
      ],
      "metadata": {
        "id": "JUNBsx1eB_9p"
      }
    },
    {
      "cell_type": "code",
      "source": [
        "x1 = 40\n",
        "x2 = 12\n",
        "\n",
        "# volume rata2 = 62.5\n",
        "# volume std = 15.6\n",
        "# waktu rata2 = 3.9\n",
        "# waktu std = 2.07\n",
        "\n",
        "# scaling\n",
        "x1_scale = (x1 - mms.mean_[0])/mms.scale_[0]\n",
        "x2_scale = (x2 - mms.mean_[1])/mms.scale_[1]\n",
        "\n",
        "a = lr.coef_[0]\n",
        "b = lr.coef_[1]\n",
        "c = lr.intercept_\n",
        "\n",
        "# manual\n",
        "print(a*x1_scale+b*x2_scale+c)\n",
        "# pakai model\n",
        "print(lr.predict([[x1_scale,x2_scale]])[0])"
      ],
      "metadata": {
        "id": "0T1HMzg9CBc3"
      },
      "execution_count": null,
      "outputs": []
    },
    {
      "cell_type": "markdown",
      "source": [
        "## Ridge Regression"
      ],
      "metadata": {
        "id": "YewwkzlG3AjR"
      }
    },
    {
      "cell_type": "code",
      "source": [
        "from sklearn.linear_model import Ridge\n",
        "from sklearn.metrics import mean_squared_error\n",
        "import numpy as np\n",
        "\n",
        "rdg = Ridge(alpha=0.1)\n",
        "\n",
        "rdg.fit(X_train,y_train)\n",
        "\n",
        "print(rdg.score(X_train,y_train))\n",
        "print(rdg.coef_)\n",
        "print(rdg.intercept_)\n",
        "\n",
        "y_pred_train = rdg.predict(X_train)\n",
        "print(np.sqrt(mean_squared_error(y_train,y_pred_train)))"
      ],
      "metadata": {
        "id": "StYRQiyo3C6E"
      },
      "execution_count": null,
      "outputs": []
    },
    {
      "cell_type": "code",
      "source": [
        "rdg.score(X_test,y_test)"
      ],
      "metadata": {
        "id": "uxiXNdRe3K3p"
      },
      "execution_count": null,
      "outputs": []
    },
    {
      "cell_type": "code",
      "source": [
        "from sklearn.metrics import mean_squared_error\n",
        "import numpy as np\n",
        "\n",
        "y_pred = rdg.predict(X_test)\n",
        "\n",
        "print(np.sqrt(mean_squared_error(y_test,y_pred)))"
      ],
      "metadata": {
        "id": "G0VuoI9T3Q4x"
      },
      "execution_count": null,
      "outputs": []
    },
    {
      "cell_type": "markdown",
      "source": [
        "### Sample\n",
        "\n",
        "y = ax1+bx2+c"
      ],
      "metadata": {
        "id": "4Z20CJqEC4CV"
      }
    },
    {
      "cell_type": "code",
      "source": [
        "x1 = 40\n",
        "x2 = 12\n",
        "a = rdg.coef_[0]\n",
        "b = rdg.coef_[1]\n",
        "c = rdg.intercept_\n",
        "\n",
        "# manual\n",
        "print(a*x1+b*x2+c)\n",
        "# pakai model\n",
        "print(rdg.predict([[x1,x2]])[0])"
      ],
      "metadata": {
        "id": "srSbabn1C0HX"
      },
      "execution_count": null,
      "outputs": []
    },
    {
      "cell_type": "markdown",
      "source": [
        "## Ridge Regression with CV"
      ],
      "metadata": {
        "id": "KJNYrc1A5GDk"
      }
    },
    {
      "cell_type": "code",
      "source": [
        "from sklearn.linear_model import RidgeCV\n",
        "from sklearn.metrics import mean_squared_error\n",
        "import numpy as np\n",
        "\n",
        "rdg_cv = RidgeCV([.1,.3,.5,.7,.9,1,10],cv=5)\n",
        "\n",
        "rdg_cv.fit(X_train,y_train)\n",
        "\n",
        "print(rdg_cv.score(X_train,y_train))\n",
        "print(rdg_cv.coef_)\n",
        "print(rdg_cv.intercept_)\n",
        "\n",
        "y_pred_train = rdg_cv.predict(X_train)\n",
        "print(np.sqrt(mean_squared_error(y_train,y_pred_train)))"
      ],
      "metadata": {
        "id": "PmV6gKUj5JBP"
      },
      "execution_count": null,
      "outputs": []
    },
    {
      "cell_type": "code",
      "source": [
        "rdg_cv.score(X_test,y_test)"
      ],
      "metadata": {
        "id": "_fG2uRXM5RD_"
      },
      "execution_count": null,
      "outputs": []
    },
    {
      "cell_type": "code",
      "source": [
        "from sklearn.metrics import mean_squared_error\n",
        "import numpy as np\n",
        "\n",
        "y_pred = rdg_cv.predict(X_test)\n",
        "\n",
        "print(np.sqrt(mean_squared_error(y_test,y_pred)))"
      ],
      "metadata": {
        "id": "8HtP2SWd5S34"
      },
      "execution_count": null,
      "outputs": []
    },
    {
      "cell_type": "markdown",
      "source": [
        "### Sample"
      ],
      "metadata": {
        "id": "-ozdb4UgDFeE"
      }
    },
    {
      "cell_type": "code",
      "source": [
        "x1 = 40\n",
        "x2 = 12\n",
        "a = rdg_cv.coef_[0]\n",
        "b = rdg_cv.coef_[1]\n",
        "c = rdg_cv.intercept_\n",
        "\n",
        "# manual\n",
        "print(a*x1+b*x2+c)\n",
        "# pakai model\n",
        "print(rdg_cv.predict([[x1,x2]])[0])"
      ],
      "metadata": {
        "id": "aFUx9_qUC-2m"
      },
      "execution_count": null,
      "outputs": []
    },
    {
      "cell_type": "markdown",
      "source": [
        "## Lasso Regression"
      ],
      "metadata": {
        "id": "D68C-czJ3TkU"
      }
    },
    {
      "cell_type": "code",
      "source": [
        "from sklearn.linear_model import Lasso\n",
        "from sklearn.metrics import mean_squared_error\n",
        "import numpy as np\n",
        "\n",
        "lss = Lasso(alpha=0.2)\n",
        "\n",
        "lss.fit(X_train,y_train)\n",
        "\n",
        "print(lss.score(X_train,y_train))\n",
        "print(lss.coef_)\n",
        "print(lss.intercept_)\n",
        "\n",
        "y_pred_train = lss.predict(X_train)\n",
        "print(np.sqrt(mean_squared_error(y_train,y_pred_train)))"
      ],
      "metadata": {
        "id": "fh09HQlV3VfP"
      },
      "execution_count": null,
      "outputs": []
    },
    {
      "cell_type": "code",
      "source": [
        "lss.score(X_test,y_test)"
      ],
      "metadata": {
        "id": "953j9PSu3Y-3"
      },
      "execution_count": null,
      "outputs": []
    },
    {
      "cell_type": "code",
      "source": [
        "from sklearn.metrics import mean_squared_error\n",
        "import numpy as np\n",
        "\n",
        "y_pred = lss.predict(X_test)\n",
        "\n",
        "print(np.sqrt(mean_squared_error(y_test,y_pred)))"
      ],
      "metadata": {
        "id": "9v2ETx7k3aQh"
      },
      "execution_count": null,
      "outputs": []
    },
    {
      "cell_type": "markdown",
      "source": [],
      "metadata": {
        "id": "nQLRTl4jDJNA"
      }
    },
    {
      "cell_type": "code",
      "source": [
        "x1 = 40\n",
        "x2 = 12\n",
        "a = lss.coef_[0]\n",
        "b = lss.coef_[1]\n",
        "c = lss.intercept_\n",
        "\n",
        "# manual\n",
        "print(a*x1+b*x2+c)\n",
        "# pakai model\n",
        "print(lss.predict([[x1,x2]])[0])"
      ],
      "metadata": {
        "id": "6OxDiRldDJ7v"
      },
      "execution_count": null,
      "outputs": []
    },
    {
      "cell_type": "markdown",
      "source": [
        "## Lasso Regression with CV"
      ],
      "metadata": {
        "id": "BwmxAGws6PO-"
      }
    },
    {
      "cell_type": "code",
      "source": [
        "from sklearn.linear_model import LassoCV\n",
        "from sklearn.metrics import mean_squared_error\n",
        "import numpy as np\n",
        "\n",
        "lss_cv = LassoCV(alphas=[.1,.3,.5,.7,.9])\n",
        "\n",
        "lss_cv.fit(X_train,y_train)\n",
        "\n",
        "print(lss_cv.score(X_train,y_train))\n",
        "print(lss_cv.coef_)\n",
        "print(lss_cv.intercept_)\n",
        "\n",
        "y_pred_train = lss_cv.predict(X_train)\n",
        "print(np.sqrt(mean_squared_error(y_train,y_pred_train)))"
      ],
      "metadata": {
        "id": "NALSiBzN6SVC"
      },
      "execution_count": null,
      "outputs": []
    },
    {
      "cell_type": "code",
      "source": [
        "lss_cv.score(X_test,y_test)"
      ],
      "metadata": {
        "id": "rrpJ1sqU6UCP"
      },
      "execution_count": null,
      "outputs": []
    },
    {
      "cell_type": "code",
      "source": [
        "from sklearn.metrics import mean_squared_error\n",
        "import numpy as np\n",
        "\n",
        "y_pred = lss_cv.predict(X_test)\n",
        "\n",
        "print(np.sqrt(mean_squared_error(y_test,y_pred)))"
      ],
      "metadata": {
        "id": "3fVVxXzf6Vvy"
      },
      "execution_count": null,
      "outputs": []
    },
    {
      "cell_type": "code",
      "source": [
        "x1 = 40\n",
        "x2 = 12\n",
        "a = lss_cv.coef_[0]\n",
        "b = lss_cv.coef_[1]\n",
        "c = lss_cv.intercept_\n",
        "\n",
        "# manual\n",
        "print(a*x1+b*x2+c)\n",
        "# pakai model\n",
        "print(lss_cv.predict([[x1,x2]])[0])"
      ],
      "metadata": {
        "id": "wTZ3RF6uDYuX"
      },
      "execution_count": null,
      "outputs": []
    },
    {
      "cell_type": "markdown",
      "source": [
        "## Elasticnet Regression"
      ],
      "metadata": {
        "id": "6FBh2pw25nQV"
      }
    },
    {
      "cell_type": "code",
      "source": [
        "from sklearn.linear_model import ElasticNet\n",
        "from sklearn.metrics import mean_squared_error\n",
        "import numpy as np\n",
        "\n",
        "eln = ElasticNet()\n",
        "\n",
        "eln.fit(X_train,y_train)\n",
        "\n",
        "print(eln.score(X_train,y_train))\n",
        "print(eln.coef_)\n",
        "print(eln.intercept_)\n",
        "\n",
        "y_pred_train = eln.predict(X_train)\n",
        "print(np.sqrt(mean_squared_error(y_train,y_pred_train)))"
      ],
      "metadata": {
        "id": "WeCNub9m5ppD"
      },
      "execution_count": null,
      "outputs": []
    },
    {
      "cell_type": "code",
      "source": [
        "eln.predict([[5,10]])"
      ],
      "metadata": {
        "id": "oZ1HSd6cATv5"
      },
      "execution_count": null,
      "outputs": []
    },
    {
      "cell_type": "code",
      "source": [
        "eln.score(X_test,y_test)"
      ],
      "metadata": {
        "id": "E2VENorp5uA3"
      },
      "execution_count": null,
      "outputs": []
    },
    {
      "cell_type": "code",
      "source": [
        "from sklearn.metrics import mean_squared_error\n",
        "import numpy as np\n",
        "\n",
        "y_pred = eln.predict(X_test)\n",
        "\n",
        "print(np.sqrt(mean_squared_error(y_test,y_pred)))"
      ],
      "metadata": {
        "id": "r_TVEAUd5uep"
      },
      "execution_count": null,
      "outputs": []
    },
    {
      "cell_type": "markdown",
      "source": [
        "## Elasticnet Regression with CV"
      ],
      "metadata": {
        "id": "5hlqv66Q6eff"
      }
    },
    {
      "cell_type": "code",
      "source": [
        "from sklearn.linear_model import ElasticNetCV\n",
        "from sklearn.metrics import mean_squared_error\n",
        "import numpy as np\n",
        "\n",
        "eln_cv = ElasticNetCV(l1_ratio=[.1, .5, .7, .9, .95, .99, 1])\n",
        "\n",
        "eln_cv.fit(X_train,y_train)\n",
        "\n",
        "print(eln_cv.score(X_train,y_train))\n",
        "print(eln_cv.coef_)\n",
        "print(eln_cv.intercept_)\n",
        "\n",
        "y_pred_train = eln_cv.predict(X_train)\n",
        "print(np.sqrt(mean_squared_error(y_train,y_pred_train)))"
      ],
      "metadata": {
        "id": "U5-QtKoR6hpA"
      },
      "execution_count": null,
      "outputs": []
    },
    {
      "cell_type": "code",
      "source": [
        "eln_cv.score(X_test,y_test)"
      ],
      "metadata": {
        "id": "wX-wyfWK6kKS"
      },
      "execution_count": null,
      "outputs": []
    },
    {
      "cell_type": "code",
      "source": [
        "from sklearn.metrics import mean_squared_error\n",
        "import numpy as np\n",
        "\n",
        "y_pred = eln_cv.predict(X_test)\n",
        "\n",
        "print(np.sqrt(mean_squared_error(y_test,y_pred)))"
      ],
      "metadata": {
        "id": "s9OISWgG6lxG"
      },
      "execution_count": null,
      "outputs": []
    },
    {
      "cell_type": "markdown",
      "source": [
        "## Decision Tree Regressor"
      ],
      "metadata": {
        "id": "Uo0bgCDeBnQq"
      }
    },
    {
      "cell_type": "code",
      "source": [
        "from sklearn.model_selection import GridSearchCV\n",
        "from sklearn.tree import DecisionTreeRegressor\n",
        "from sklearn.metrics import mean_squared_error\n",
        "import numpy as np\n",
        "\n",
        "params = {\n",
        "    \"max_depth\": range(2,10),\n",
        "    \"min_samples_split\": range(2,10),\n",
        "    \"min_samples_leaf\": range(2,10)\n",
        "}\n",
        "\n",
        "dtr = DecisionTreeRegressor()\n",
        "gs = GridSearchCV(dtr,params)\n",
        "\n",
        "gs.fit(X_train,y_train)\n",
        "\n",
        "y_pred_train = gs.predict(X_train)\n",
        "print(np.sqrt(mean_squared_error(y_train,y_pred_train)))"
      ],
      "metadata": {
        "id": "5Jky4RqeBnsc"
      },
      "execution_count": null,
      "outputs": []
    },
    {
      "cell_type": "code",
      "source": [
        "# from sklearn import tree\n",
        "\n",
        "# tree.plot_tree(gs)"
      ],
      "metadata": {
        "id": "Q9K9i6wACN3c"
      },
      "execution_count": null,
      "outputs": []
    },
    {
      "cell_type": "code",
      "source": [
        "from sklearn.metrics import mean_squared_error\n",
        "import numpy as np\n",
        "\n",
        "y_pred = gs.predict(X_test)\n",
        "\n",
        "print(np.sqrt(mean_squared_error(y_test,y_pred)))"
      ],
      "metadata": {
        "id": "44NeBPxKB4uS"
      },
      "execution_count": null,
      "outputs": []
    },
    {
      "cell_type": "markdown",
      "source": [
        "## Support Vector Regression"
      ],
      "metadata": {
        "id": "ql0m8qrYDJHu"
      }
    },
    {
      "cell_type": "code",
      "source": [
        "from sklearn.svm import SVR\n",
        "from sklearn.metrics import mean_squared_error\n",
        "import numpy as np\n",
        "\n",
        "svr = SVR(kernel=\"linear\")\n",
        "svr.fit(X_train,y_train)\n",
        "\n",
        "print(svr.coef_)\n",
        "print(svr.intercept_)\n",
        "\n",
        "y_pred_train = svr.predict(X_train)\n",
        "print(np.sqrt(mean_squared_error(y_train,y_pred_train)))"
      ],
      "metadata": {
        "id": "zb6xkmzYDLGY"
      },
      "execution_count": null,
      "outputs": []
    },
    {
      "cell_type": "code",
      "source": [
        "from sklearn.metrics import mean_squared_error\n",
        "import numpy as np\n",
        "\n",
        "y_pred = svr.predict(X_test)\n",
        "\n",
        "print(np.sqrt(mean_squared_error(y_test,y_pred)))"
      ],
      "metadata": {
        "id": "JpdP79JiDouE"
      },
      "execution_count": null,
      "outputs": []
    },
    {
      "cell_type": "code",
      "source": [
        "x1 = 40\n",
        "x2 = 12\n",
        "a = svr.coef_[0][0]\n",
        "b = svr.coef_[0][1]\n",
        "c = svr.intercept_[0]\n",
        "\n",
        "# manual\n",
        "print(a*x1+b*x2+c)\n",
        "# pakai model\n",
        "print(svr.predict([[x1,x2]])[0])"
      ],
      "metadata": {
        "id": "_1bN8YCiDptC"
      },
      "execution_count": null,
      "outputs": []
    },
    {
      "cell_type": "markdown",
      "source": [
        "## Total"
      ],
      "metadata": {
        "id": "qF-pdEf27PGe"
      }
    },
    {
      "cell_type": "code",
      "source": [
        "from sklearn.linear_model import LinearRegression\n",
        "from sklearn.linear_model import Ridge\n",
        "from sklearn.linear_model import RidgeCV\n",
        "from sklearn.linear_model import Lasso\n",
        "from sklearn.linear_model import LassoCV\n",
        "from sklearn.linear_model import ElasticNet\n",
        "from sklearn.linear_model import ElasticNetCV\n",
        "from sklearn.model_selection import GridSearchCV\n",
        "from sklearn.svm import SVR\n",
        "from sklearn.tree import DecisionTreeRegressor\n",
        "\n",
        "lr = LinearRegression()\n",
        "rdg = Ridge()\n",
        "rdg_cv = RidgeCV([.1,.5,1,5,10,15],cv=5)\n",
        "lss = Lasso()\n",
        "lss_cv = LassoCV(alphas=[.1,.3,.5,.7,.9])\n",
        "eln = ElasticNet()\n",
        "eln_cv = ElasticNetCV(l1_ratio=[.1, .5, .7, .9, .95, .99, 1])\n",
        "svr = SVR(kernel=\"linear\")\n",
        "dtr = DecisionTreeRegressor()\n",
        "params = {\n",
        "    \"max_depth\": range(2,10),\n",
        "    \"min_samples_split\": range(2,10),\n",
        "    \"min_samples_leaf\": range(2,10)\n",
        "}\n",
        "gs = GridSearchCV(dtr,params)\n",
        "\n",
        "lr.fit(X_train,y_train)\n",
        "rdg.fit(X_train,y_train)\n",
        "rdg_cv.fit(X_train,y_train)\n",
        "lss.fit(X_train,y_train)\n",
        "lss_cv.fit(X_train,y_train)\n",
        "eln.fit(X_train,y_train)\n",
        "eln_cv.fit(X_train,y_train)\n",
        "svr.fit(X_train,y_train)\n",
        "gs.fit(X_train,y_train)\n",
        "\n",
        "print(\"RidgeCV best params:\",rdg_cv.alpha_)\n",
        "print(\"LassoCV best params:\",lss_cv.alpha_)\n",
        "print(\"ElasticnetCV best params:\",eln_cv.alpha_)\n",
        "print(\"Decision Tree best params:\",gs.best_params_)"
      ],
      "metadata": {
        "id": "T6iiT5Z87OHK"
      },
      "execution_count": null,
      "outputs": []
    },
    {
      "cell_type": "code",
      "source": [
        "from sklearn import tree\n",
        "\n",
        "# dtr = DecisionTreeRegressor(max_depth=2,min_samples_leaf=3,min_samples_split=8)\n",
        "dtr = DecisionTreeRegressor()\n",
        "dtr.fit(X_train,y_train)\n",
        "\n",
        "tree.plot_tree(dtr)\n",
        "\n",
        "print(np.sqrt(mean_squared_error(y_test,dtr.predict(X_test))))"
      ],
      "metadata": {
        "id": "YyoWYWnHFcfz"
      },
      "execution_count": null,
      "outputs": []
    },
    {
      "cell_type": "code",
      "source": [
        "from sklearn.metrics import mean_squared_error\n",
        "import numpy as np\n",
        "\n",
        "print(\"Multiple Linear Regression\")\n",
        "print(\"Training RMSE\",np.sqrt(mean_squared_error(y_train,lr.predict(X_train))))\n",
        "print(\"Testing RMSE\",np.sqrt(mean_squared_error(y_test,lr.predict(X_test))))\n",
        "print(\"Testing R-squared\",lr.score(X_test,y_test))\n",
        "print()\n",
        "print(\"Ridge Regression\")\n",
        "print(\"Training RMSE\",np.sqrt(mean_squared_error(y_train,rdg.predict(X_train))))\n",
        "print(\"Testing RMSE\",np.sqrt(mean_squared_error(y_test,rdg.predict(X_test))))\n",
        "print(\"Testing R-squared\",rdg.score(X_test,y_test))\n",
        "print()\n",
        "print(\"Ridge Regression CV\")\n",
        "print(\"Training RMSE\",np.sqrt(mean_squared_error(y_train,rdg_cv.predict(X_train))))\n",
        "print(\"Testing RMSE\",np.sqrt(mean_squared_error(y_test,rdg_cv.predict(X_test))))\n",
        "print(\"Testing R-squared\",rdg_cv.score(X_test,y_test))\n",
        "print()\n",
        "print(\"Lasso Regression\")\n",
        "print(\"Training RMSE\",np.sqrt(mean_squared_error(y_train,lss.predict(X_train))))\n",
        "print(\"Testing RMSE\",np.sqrt(mean_squared_error(y_test,lss.predict(X_test))))\n",
        "print(\"Testing R-squared\",lss.score(X_test,y_test))\n",
        "print()\n",
        "print(\"Lasso Regression CV\")\n",
        "print(\"Training RMSE\",np.sqrt(mean_squared_error(y_train,lss_cv.predict(X_train))))\n",
        "print(\"Testing RMSE\",np.sqrt(mean_squared_error(y_test,lss_cv.predict(X_test))))\n",
        "print(\"Testing R-squared\",lss_cv.score(X_test,y_test))\n",
        "print()\n",
        "print(\"Elasticnet Regression\")\n",
        "print(\"Training RMSE\",np.sqrt(mean_squared_error(y_train,eln.predict(X_train))))\n",
        "print(\"Testing RMSE\",np.sqrt(mean_squared_error(y_test,eln.predict(X_test))))\n",
        "print(\"Testing R-squared\",eln.score(X_test,y_test))\n",
        "print()\n",
        "print(\"Elasticnet Regression CV\")\n",
        "print(\"Training RMSE\",np.sqrt(mean_squared_error(y_train,eln_cv.predict(X_train))))\n",
        "print(\"Testing RMSE\",np.sqrt(mean_squared_error(y_test,eln_cv.predict(X_test))))\n",
        "print(\"Testing R-squared\",eln_cv.score(X_test,y_test))\n",
        "print()\n",
        "print(\"Decision Tree Regression\")\n",
        "print(\"Training RMSE\",np.sqrt(mean_squared_error(y_train,gs.predict(X_train))))\n",
        "print(\"Testing RMSE\",np.sqrt(mean_squared_error(y_test,gs.predict(X_test))))\n",
        "print(\"Testing R-squared\",gs.score(X_test,y_test))\n",
        "print()\n",
        "print(\"Support Vector Regression\")\n",
        "print(\"Training RMSE\",np.sqrt(mean_squared_error(y_train,svr.predict(X_train))))\n",
        "print(\"Testing RMSE\",np.sqrt(mean_squared_error(y_test,svr.predict(X_test))))\n",
        "print(\"Testing R-squared\",svr.score(X_test,y_test))"
      ],
      "metadata": {
        "id": "wLeJGepe72xX"
      },
      "execution_count": null,
      "outputs": []
    }
  ]
}